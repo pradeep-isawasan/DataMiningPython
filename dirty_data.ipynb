{
 "cells": [
  {
   "cell_type": "code",
   "execution_count": 3,
   "metadata": {},
   "outputs": [],
   "source": [
    "import pandas as pd\n",
    "import numpy as np\n",
    "import matplotlib.pyplot as plt\n",
    "\n",
    "# Load the original Iris dataset\n",
    "url = \"https://archive.ics.uci.edu/ml/machine-learning-databases/iris/iris.data\"\n",
    "column_names = [\"sepal_length\", \"sepal_width\", \"petal_length\", \"petal_width\", \"class\"]\n",
    "iris = pd.read_csv(url, header=None, names=column_names)\n",
    "\n",
    "# Introduce some errors\n",
    "dirty_iris = iris.copy()\n",
    "dirty_iris.loc[10:20, 'sepal_length'] = np.nan  # Missing values\n",
    "dirty_iris.loc[30:40, 'class'] = 'Iris-setsoa'  # Typos\n",
    "dirty_iris.loc[50:60, 'petal_width'] = 0  # Zeros\n",
    "\n",
    "# Save the dirty dataset to a file\n",
    "dirty_iris.to_csv('dirty_iris_exercise.csv', index=False)"
   ]
  }
 ],
 "metadata": {
  "kernelspec": {
   "display_name": "DataMiningClass",
   "language": "python",
   "name": "python3"
  },
  "language_info": {
   "codemirror_mode": {
    "name": "ipython",
    "version": 3
   },
   "file_extension": ".py",
   "mimetype": "text/x-python",
   "name": "python",
   "nbconvert_exporter": "python",
   "pygments_lexer": "ipython3",
   "version": "3.9.18"
  },
  "orig_nbformat": 4
 },
 "nbformat": 4,
 "nbformat_minor": 2
}
